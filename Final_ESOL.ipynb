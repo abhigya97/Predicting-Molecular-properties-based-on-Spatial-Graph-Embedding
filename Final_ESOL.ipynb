{
 "cells": [
  {
   "cell_type": "code",
   "execution_count": 1,
   "metadata": {
    "colab": {
     "base_uri": "https://localhost:8080/",
     "height": 1000
    },
    "colab_type": "code",
    "id": "v-5sMjEFUMmd",
    "outputId": "003d5b34-fbb9-416d-ac30-8248e539b826"
   },
   "outputs": [
    {
     "name": "stderr",
     "output_type": "stream",
     "text": [
      "/Users/abhigyaurja/opt/anaconda3/lib/python3.7/site-packages/sklearn/externals/joblib/__init__.py:15: DeprecationWarning: sklearn.externals.joblib is deprecated in 0.21 and will be removed in 0.23. Please import this functionality directly from joblib, which can be installed with: pip install joblib. If this warning is raised when loading pickled models, you may need to re-serialize those models with scikit-learn 0.21+.\n",
      "  warnings.warn(msg, category=DeprecationWarning)\n",
      "/Users/abhigyaurja/opt/anaconda3/lib/python3.7/site-packages/tensorflow/python/framework/dtypes.py:516: FutureWarning: Passing (type, 1) or '1type' as a synonym of type is deprecated; in a future version of numpy, it will be understood as (type, (1,)) / '(1,)type'.\n",
      "  _np_qint8 = np.dtype([(\"qint8\", np.int8, 1)])\n",
      "/Users/abhigyaurja/opt/anaconda3/lib/python3.7/site-packages/tensorflow/python/framework/dtypes.py:517: FutureWarning: Passing (type, 1) or '1type' as a synonym of type is deprecated; in a future version of numpy, it will be understood as (type, (1,)) / '(1,)type'.\n",
      "  _np_quint8 = np.dtype([(\"quint8\", np.uint8, 1)])\n",
      "/Users/abhigyaurja/opt/anaconda3/lib/python3.7/site-packages/tensorflow/python/framework/dtypes.py:518: FutureWarning: Passing (type, 1) or '1type' as a synonym of type is deprecated; in a future version of numpy, it will be understood as (type, (1,)) / '(1,)type'.\n",
      "  _np_qint16 = np.dtype([(\"qint16\", np.int16, 1)])\n",
      "/Users/abhigyaurja/opt/anaconda3/lib/python3.7/site-packages/tensorflow/python/framework/dtypes.py:519: FutureWarning: Passing (type, 1) or '1type' as a synonym of type is deprecated; in a future version of numpy, it will be understood as (type, (1,)) / '(1,)type'.\n",
      "  _np_quint16 = np.dtype([(\"quint16\", np.uint16, 1)])\n",
      "/Users/abhigyaurja/opt/anaconda3/lib/python3.7/site-packages/tensorflow/python/framework/dtypes.py:520: FutureWarning: Passing (type, 1) or '1type' as a synonym of type is deprecated; in a future version of numpy, it will be understood as (type, (1,)) / '(1,)type'.\n",
      "  _np_qint32 = np.dtype([(\"qint32\", np.int32, 1)])\n",
      "/Users/abhigyaurja/opt/anaconda3/lib/python3.7/site-packages/tensorflow/python/framework/dtypes.py:525: FutureWarning: Passing (type, 1) or '1type' as a synonym of type is deprecated; in a future version of numpy, it will be understood as (type, (1,)) / '(1,)type'.\n",
      "  np_resource = np.dtype([(\"resource\", np.ubyte, 1)])\n",
      "/Users/abhigyaurja/opt/anaconda3/lib/python3.7/site-packages/tensorboard/compat/tensorflow_stub/dtypes.py:541: FutureWarning: Passing (type, 1) or '1type' as a synonym of type is deprecated; in a future version of numpy, it will be understood as (type, (1,)) / '(1,)type'.\n",
      "  _np_qint8 = np.dtype([(\"qint8\", np.int8, 1)])\n",
      "/Users/abhigyaurja/opt/anaconda3/lib/python3.7/site-packages/tensorboard/compat/tensorflow_stub/dtypes.py:542: FutureWarning: Passing (type, 1) or '1type' as a synonym of type is deprecated; in a future version of numpy, it will be understood as (type, (1,)) / '(1,)type'.\n",
      "  _np_quint8 = np.dtype([(\"quint8\", np.uint8, 1)])\n",
      "/Users/abhigyaurja/opt/anaconda3/lib/python3.7/site-packages/tensorboard/compat/tensorflow_stub/dtypes.py:543: FutureWarning: Passing (type, 1) or '1type' as a synonym of type is deprecated; in a future version of numpy, it will be understood as (type, (1,)) / '(1,)type'.\n",
      "  _np_qint16 = np.dtype([(\"qint16\", np.int16, 1)])\n",
      "/Users/abhigyaurja/opt/anaconda3/lib/python3.7/site-packages/tensorboard/compat/tensorflow_stub/dtypes.py:544: FutureWarning: Passing (type, 1) or '1type' as a synonym of type is deprecated; in a future version of numpy, it will be understood as (type, (1,)) / '(1,)type'.\n",
      "  _np_quint16 = np.dtype([(\"quint16\", np.uint16, 1)])\n",
      "/Users/abhigyaurja/opt/anaconda3/lib/python3.7/site-packages/tensorboard/compat/tensorflow_stub/dtypes.py:545: FutureWarning: Passing (type, 1) or '1type' as a synonym of type is deprecated; in a future version of numpy, it will be understood as (type, (1,)) / '(1,)type'.\n",
      "  _np_qint32 = np.dtype([(\"qint32\", np.int32, 1)])\n",
      "/Users/abhigyaurja/opt/anaconda3/lib/python3.7/site-packages/tensorboard/compat/tensorflow_stub/dtypes.py:550: FutureWarning: Passing (type, 1) or '1type' as a synonym of type is deprecated; in a future version of numpy, it will be understood as (type, (1,)) / '(1,)type'.\n",
      "  np_resource = np.dtype([(\"resource\", np.ubyte, 1)])\n"
     ]
    }
   ],
   "source": [
    "import deepchem as dc\n",
    "import pandas as pd \n",
    "import networkx as nx\n",
    "import numpy as np\n",
    "import matplotlib.pyplot as plt\n",
    "from rdkit import Chem\n",
    "from tqdm import tqdm\n",
    "\n",
    "from deepchem.feat.mol_graphs import ConvMol"
   ]
  },
  {
   "cell_type": "code",
   "execution_count": 2,
   "metadata": {
    "colab": {},
    "colab_type": "code",
    "id": "da6UMy1NSs-6"
   },
   "outputs": [],
   "source": [
    "import torch\n",
    "import torch.nn.functional as F\n",
    "import torch.nn as nn\n",
    "from torch.autograd import Variable"
   ]
  },
  {
   "cell_type": "code",
   "execution_count": 3,
   "metadata": {
    "colab": {},
    "colab_type": "code",
    "id": "Nnv4KpkZPKun"
   },
   "outputs": [],
   "source": [
    "esol = pd.read_csv('ESOL/delaney-processed.csv')"
   ]
  },
  {
   "cell_type": "code",
   "execution_count": 4,
   "metadata": {
    "colab": {},
    "colab_type": "code",
    "id": "CdICQWRpPKur"
   },
   "outputs": [],
   "source": [
    "def get_fingerprint(data, name):\n",
    "    smiles = data[name]\n",
    "    molecules = [Chem.MolFromSmiles(smile) for smile in smiles]\n",
    "    \n",
    "    feat = dc.feat.CircularFingerprint(size=100)\n",
    "    arr = feat.featurize(mols = molecules)\n",
    "    return arr"
   ]
  },
  {
   "cell_type": "code",
   "execution_count": 5,
   "metadata": {
    "colab": {},
    "colab_type": "code",
    "id": "T9Vhz5KKPKuu"
   },
   "outputs": [],
   "source": [
    "X_esol = get_fingerprint(esol, 'smiles')"
   ]
  },
  {
   "cell_type": "code",
   "execution_count": 6,
   "metadata": {
    "colab": {},
    "colab_type": "code",
    "id": "Q1F76CuHPKu0"
   },
   "outputs": [],
   "source": [
    "def conv(data, name):\n",
    "    smiles = data[name]\n",
    "    mols = [Chem.MolFromSmiles(s) for s in smiles]\n",
    "    \n",
    "    featurizer = dc.feat.ConvMolFeaturizer()\n",
    "    x = featurizer.featurize(mols)\n",
    "    return x"
   ]
  },
  {
   "cell_type": "code",
   "execution_count": 7,
   "metadata": {
    "colab": {},
    "colab_type": "code",
    "id": "NwTiAZR0PKu2"
   },
   "outputs": [],
   "source": [
    "c_esol = conv(esol, 'smiles')"
   ]
  },
  {
   "cell_type": "code",
   "execution_count": 8,
   "metadata": {
    "colab": {},
    "colab_type": "code",
    "id": "sOS_tc5gPKvM"
   },
   "outputs": [],
   "source": [
    "X = []\n",
    "X_pad = []\n",
    "for i in range(c_esol.shape[0]):\n",
    "    c = c_esol[i].get_atom_features()\n",
    "    X.append(c)\n",
    "    pad = 55 - c.shape[0]\n",
    "    c = np.pad(c,((0,pad),(0,0)), 'constant')    \n",
    "    X_pad.append(c)\n",
    "    \n",
    "A = []\n",
    "for i in range(c_esol.shape[0]):\n",
    "    A.append(c_esol[i].get_adjacency_list())\n",
    "X_pad = np.asarray(X_pad)"
   ]
  },
  {
   "cell_type": "code",
   "execution_count": 9,
   "metadata": {
    "colab": {},
    "colab_type": "code",
    "id": "5YAy4rLRPKvO"
   },
   "outputs": [],
   "source": [
    "y_esol = esol['measured log solubility in mols per litre']\n",
    "X_esol = Variable(torch.from_numpy(X_esol))\n",
    "X_pad = Variable(torch.from_numpy(X_pad))\n",
    "y_esol = torch.FloatTensor(y_esol)"
   ]
  },
  {
   "cell_type": "code",
   "execution_count": 53,
   "metadata": {
    "colab": {},
    "colab_type": "code",
    "id": "OUKTKvS78nCf"
   },
   "outputs": [],
   "source": [
    "def Getting_Spatial(X_f, A):\n",
    "    X_s = np.zeros([X_f.shape[0], X_f.shape[0], X_f.shape[1]])\n",
    "    n = len(A)\n",
    "    for i in range(n):\n",
    "        for j in range(n):\n",
    "            if j in A[i]:\n",
    "                for k in range(X_f.shape[1]):\n",
    "                    X_s[i][j][k] = X_f[j][k]\n",
    "    X_s = Variable(torch.from_numpy(X_s))\n",
    "    \n",
    "    return X_s"
   ]
  },
  {
   "cell_type": "code",
   "execution_count": 54,
   "metadata": {
    "colab": {},
    "colab_type": "code",
    "id": "QPmn6SSgW3kq"
   },
   "outputs": [],
   "source": [
    "class GModel(nn.Module):\n",
    "    def __init__(self):\n",
    "        super(GModel, self).__init__()\n",
    "        self.X_f = nn.Linear(75, 40) #Dimensionality reduction\n",
    "        self.conv = nn.Conv1d(in_channels = 55, out_channels = 19, kernel_size = 19, stride = 1, padding = 9)\n",
    "        self.conv1 = nn.Conv1d(in_channels = 20, out_channels = 5 , kernel_size = 11)\n",
    "        self.conv2 = nn.Conv1d(in_channels = 5, out_channels = 2, kernel_size = 7)\n",
    "        self.conv3 = nn.Conv1d(in_channels = 2, out_channels = 1, kernel_size = 5)\n",
    "        self.opt = nn.Linear(100, 40)\n",
    "        self.relu = nn.ReLU()\n",
    "        self.pred = nn.Linear(100, 1)\n",
    "        \n",
    "    #Forward Pass    \n",
    "    def forward(self, x_pad, A, x2):\n",
    "        x_pad = x_pad.float()\n",
    "        x2 = x2.float()\n",
    "        \n",
    "        x_f = self.X_f(x_pad)\n",
    "        S = Getting_Spatial(x_f, A)\n",
    "\n",
    "        graph = torch.zeros(60)\n",
    "        \n",
    "        for i in range(x_pad.shape[0]):\n",
    "            s = S[i]\n",
    "            s = s.unsqueeze(dim = 0)\n",
    "            s = s.float()\n",
    "            \n",
    "            x_k = self.conv(s)\n",
    "            x_k = x_k.view(19, 40)\n",
    "        \n",
    "            f = x_f[i].unsqueeze(dim = 0)\n",
    "            \n",
    "            out1 = torch.cat([f, x_k], dim = 0)\n",
    "            \n",
    "            out1 = out1.unsqueeze(dim = 0)\n",
    "            \n",
    "            out2 = self.conv1(out1)\n",
    "            out2 = self.conv2(out2)\n",
    "            out2 = self.conv3(out2)\n",
    "        \n",
    "            out2 = out2.view(20)\n",
    "\n",
    "            out3 = torch.cat([x_f[i], out2], dim = -1)\n",
    "        \n",
    "            for j in range(60):\n",
    "                graph[j] = graph[j] + out3[j]\n",
    "\n",
    "        opti = self.opt(x2)\n",
    "        opti = self.relu(opti)\n",
    "        mol = torch.cat([graph, opti], dim = -1)\n",
    "        pred = self.pred(mol)\n",
    "        return pred"
   ]
  },
  {
   "cell_type": "code",
   "execution_count": 55,
   "metadata": {
    "colab": {},
    "colab_type": "code",
    "id": "y0shSyY6PKvQ"
   },
   "outputs": [],
   "source": [
    "def train(X_esol, X_pad, A, y_esol, opt, cost):\n",
    "    #Going into training mode for model\n",
    "    net.train()\n",
    "    loss_list = []\n",
    "    g = 0\n",
    "    y = 0\n",
    "    m = torch.mean(y_esol)\n",
    "    \n",
    "    s = np.arange(0,X_esol.shape[0],1)\n",
    "    np.random.shuffle(s)\n",
    "    \n",
    "    for i in range(X_esol.shape[0]):\n",
    "        j = s[i]\n",
    "        \n",
    "        pred = net(X_pad[j], A[j], X_esol[j])\n",
    "        labels = y_esol[j]\n",
    "        labels = labels.view(1)\n",
    "        loss = cost(pred, labels)\n",
    "    \n",
    "        loss_list.append(loss.item())\n",
    "        g = g + torch.sum((labels - pred) **2)\n",
    "        y = y + torch.sum(((labels - m) ** 2))\n",
    "        #Backpropogation and optimization\n",
    "        opt.zero_grad()\n",
    "        loss.backward()\n",
    "        opt.step()\n",
    "    \n",
    "    r_score = 1 - (g/y)\n",
    "    epoch_loss = np.sum(np.asarray(loss_list))\n",
    "    print(\"Loss is \", epoch_loss/X_esol.shape[0], ' r2_score is: ', r_score)   "
   ]
  },
  {
   "cell_type": "code",
   "execution_count": 60,
   "metadata": {},
   "outputs": [],
   "source": [
    "def test(X_esol, X_pad, A, y_esol):\n",
    "    #Going into network evaluation mode\n",
    "    net.eval()\n",
    "    \n",
    "    g = 0\n",
    "    y = 0\n",
    "    m = torch.mean(y_esol)\n",
    "\n",
    "    s = np.arange(0,X_esol.shape[0],1)\n",
    "    np.random.shuffle(s)\n",
    "    \n",
    "    #No gradients will be calculated for testing mode\n",
    "    with torch.no_grad():\n",
    "        for i in range(X_esol.shape[0]):\n",
    "            j = s[i]\n",
    "            pred = net(X_pad[j], A[j], X_esol[j])\n",
    "            labels = y_esol[j]\n",
    "            labels = labels.view(1)\n",
    "            g = g + torch.sum((labels - pred) **2)\n",
    "            y = y + torch.sum(((labels - m) ** 2))\n",
    "    \n",
    "    r_score = 1 - (g/y)\n",
    "    \n",
    "    return r_score    "
   ]
  },
  {
   "cell_type": "code",
   "execution_count": 57,
   "metadata": {
    "colab": {},
    "colab_type": "code",
    "id": "_zTI-zCxPKvR"
   },
   "outputs": [],
   "source": [
    "net = GModel()\n",
    "#Optimizer\n",
    "opt = torch.optim.Adam(net.parameters(), lr= 0.002)\n",
    "#Cost\n",
    "cost = nn.MSELoss() "
   ]
  },
  {
   "cell_type": "code",
   "execution_count": 58,
   "metadata": {},
   "outputs": [],
   "source": [
    "split = 903"
   ]
  },
  {
   "cell_type": "code",
   "execution_count": 59,
   "metadata": {
    "colab": {
     "base_uri": "https://localhost:8080/",
     "height": 51
    },
    "colab_type": "code",
    "id": "PdzzT5g9FlKm",
    "outputId": "7bd8ec2c-de9e-4069-9b4b-7e9e5d3c0919"
   },
   "outputs": [
    {
     "name": "stderr",
     "output_type": "stream",
     "text": [
      "\n",
      "  0%|          | 0/20 [00:00<?, ?it/s]\u001b[A"
     ]
    },
    {
     "name": "stdout",
     "output_type": "stream",
     "text": [
      "Loss is  1.7681033949425031  r2_score is:  tensor(0.6038, grad_fn=<RsubBackward1>)\n"
     ]
    },
    {
     "name": "stderr",
     "output_type": "stream",
     "text": [
      "\n",
      "  5%|▌         | 1/20 [04:02<1:16:43, 242.31s/it]\u001b[A"
     ]
    },
    {
     "name": "stdout",
     "output_type": "stream",
     "text": [
      "Loss is  1.0066130166314826  r2_score is:  tensor(0.7744, grad_fn=<RsubBackward1>)\n"
     ]
    },
    {
     "name": "stderr",
     "output_type": "stream",
     "text": [
      "\n",
      " 10%|█         | 2/20 [08:01<1:12:26, 241.50s/it]\u001b[A"
     ]
    },
    {
     "name": "stdout",
     "output_type": "stream",
     "text": [
      "Loss is  0.8060504324701584  r2_score is:  tensor(0.8194, grad_fn=<RsubBackward1>)\n"
     ]
    },
    {
     "name": "stderr",
     "output_type": "stream",
     "text": [
      "\n",
      " 15%|█▌        | 3/20 [12:07<1:08:47, 242.79s/it]\u001b[A"
     ]
    },
    {
     "name": "stdout",
     "output_type": "stream",
     "text": [
      "Loss is  0.6072262395155632  r2_score is:  tensor(0.8639, grad_fn=<RsubBackward1>)\n"
     ]
    },
    {
     "name": "stderr",
     "output_type": "stream",
     "text": [
      "\n",
      " 20%|██        | 4/20 [16:15<1:05:06, 244.17s/it]\u001b[A"
     ]
    },
    {
     "name": "stdout",
     "output_type": "stream",
     "text": [
      "Loss is  0.5235124073806163  r2_score is:  tensor(0.8827, grad_fn=<RsubBackward1>)\n"
     ]
    },
    {
     "name": "stderr",
     "output_type": "stream",
     "text": [
      "\n",
      " 25%|██▌       | 5/20 [20:47<1:03:08, 252.54s/it]\u001b[A"
     ]
    },
    {
     "name": "stdout",
     "output_type": "stream",
     "text": [
      "Loss is  0.4190561263145065  r2_score is:  tensor(0.9061, grad_fn=<RsubBackward1>)\n"
     ]
    },
    {
     "name": "stderr",
     "output_type": "stream",
     "text": [
      "\n",
      " 30%|███       | 6/20 [25:09<59:38, 255.61s/it]  \u001b[A"
     ]
    },
    {
     "name": "stdout",
     "output_type": "stream",
     "text": [
      "Loss is  0.406394633923094  r2_score is:  tensor(0.9089, grad_fn=<RsubBackward1>)\n"
     ]
    },
    {
     "name": "stderr",
     "output_type": "stream",
     "text": [
      "\n",
      " 35%|███▌      | 7/20 [29:26<55:26, 255.92s/it]\u001b[A"
     ]
    },
    {
     "name": "stdout",
     "output_type": "stream",
     "text": [
      "Loss is  0.3484873171931603  r2_score is:  tensor(0.9219, grad_fn=<RsubBackward1>)\n"
     ]
    },
    {
     "name": "stderr",
     "output_type": "stream",
     "text": [
      "\n",
      " 40%|████      | 8/20 [33:43<51:12, 256.07s/it]\u001b[A"
     ]
    },
    {
     "name": "stdout",
     "output_type": "stream",
     "text": [
      "Loss is  0.27004145094352644  r2_score is:  tensor(0.9395, grad_fn=<RsubBackward1>)\n"
     ]
    },
    {
     "name": "stderr",
     "output_type": "stream",
     "text": [
      "\n",
      " 45%|████▌     | 9/20 [38:20<48:05, 262.36s/it]\u001b[A"
     ]
    },
    {
     "name": "stdout",
     "output_type": "stream",
     "text": [
      "Loss is  0.3701926477498495  r2_score is:  tensor(0.9170, grad_fn=<RsubBackward1>)\n"
     ]
    },
    {
     "name": "stderr",
     "output_type": "stream",
     "text": [
      "\n",
      " 50%|█████     | 10/20 [42:50<44:06, 264.67s/it]\u001b[A"
     ]
    },
    {
     "name": "stdout",
     "output_type": "stream",
     "text": [
      "Loss is  0.25245305470212115  r2_score is:  tensor(0.9434, grad_fn=<RsubBackward1>)\n"
     ]
    },
    {
     "name": "stderr",
     "output_type": "stream",
     "text": [
      "\n",
      " 55%|█████▌    | 11/20 [47:21<39:59, 266.61s/it]\u001b[A"
     ]
    },
    {
     "name": "stdout",
     "output_type": "stream",
     "text": [
      "Loss is  0.2077914470155001  r2_score is:  tensor(0.9534, grad_fn=<RsubBackward1>)\n"
     ]
    },
    {
     "name": "stderr",
     "output_type": "stream",
     "text": [
      "\n",
      " 60%|██████    | 12/20 [52:35<37:28, 281.03s/it]\u001b[A"
     ]
    },
    {
     "name": "stdout",
     "output_type": "stream",
     "text": [
      "Loss is  0.19738666250328604  r2_score is:  tensor(0.9558, grad_fn=<RsubBackward1>)\n"
     ]
    },
    {
     "name": "stderr",
     "output_type": "stream",
     "text": [
      "\n",
      " 65%|██████▌   | 13/20 [57:29<33:13, 284.73s/it]\u001b[A"
     ]
    },
    {
     "name": "stdout",
     "output_type": "stream",
     "text": [
      "Loss is  0.18725094104031273  r2_score is:  tensor(0.9580, grad_fn=<RsubBackward1>)\n"
     ]
    },
    {
     "name": "stderr",
     "output_type": "stream",
     "text": [
      "\n",
      " 70%|███████   | 14/20 [1:01:59<28:02, 280.37s/it]\u001b[A"
     ]
    },
    {
     "name": "stdout",
     "output_type": "stream",
     "text": [
      "Loss is  0.21663076508812792  r2_score is:  tensor(0.9515, grad_fn=<RsubBackward1>)\n"
     ]
    },
    {
     "name": "stderr",
     "output_type": "stream",
     "text": [
      "\n",
      " 75%|███████▌  | 15/20 [1:06:30<23:08, 277.70s/it]\u001b[A"
     ]
    },
    {
     "name": "stdout",
     "output_type": "stream",
     "text": [
      "Loss is  0.14666402242819135  r2_score is:  tensor(0.9671, grad_fn=<RsubBackward1>)\n"
     ]
    },
    {
     "name": "stderr",
     "output_type": "stream",
     "text": [
      "\n",
      " 80%|████████  | 16/20 [1:11:11<18:33, 278.42s/it]\u001b[A"
     ]
    },
    {
     "name": "stdout",
     "output_type": "stream",
     "text": [
      "Loss is  0.18011332052814144  r2_score is:  tensor(0.9596, grad_fn=<RsubBackward1>)\n"
     ]
    },
    {
     "name": "stderr",
     "output_type": "stream",
     "text": [
      "\n",
      " 85%|████████▌ | 17/20 [1:15:45<13:51, 277.31s/it]\u001b[A"
     ]
    },
    {
     "name": "stdout",
     "output_type": "stream",
     "text": [
      "Loss is  0.18015858433510148  r2_score is:  tensor(0.9596, grad_fn=<RsubBackward1>)\n"
     ]
    },
    {
     "name": "stderr",
     "output_type": "stream",
     "text": [
      "\n",
      " 90%|█████████ | 18/20 [1:20:19<09:12, 276.21s/it]\u001b[A"
     ]
    },
    {
     "name": "stdout",
     "output_type": "stream",
     "text": [
      "Loss is  0.14580095394378978  r2_score is:  tensor(0.9673, grad_fn=<RsubBackward1>)\n"
     ]
    },
    {
     "name": "stderr",
     "output_type": "stream",
     "text": [
      "\n",
      " 95%|█████████▌| 19/20 [1:24:51<04:34, 274.84s/it]\u001b[A"
     ]
    },
    {
     "name": "stdout",
     "output_type": "stream",
     "text": [
      "Loss is  0.17538416174385665  r2_score is:  tensor(0.9607, grad_fn=<RsubBackward1>)\n"
     ]
    },
    {
     "name": "stderr",
     "output_type": "stream",
     "text": [
      "\n",
      "100%|██████████| 20/20 [1:29:24<00:00, 268.21s/it]\u001b[A\n"
     ]
    }
   ],
   "source": [
    "for i in tqdm(range(20)):\n",
    "    train(X_esol[:split,:], X_pad[:split,:,:], A[:split], y_esol[:split], opt, cost)"
   ]
  },
  {
   "cell_type": "code",
   "execution_count": 61,
   "metadata": {},
   "outputs": [
    {
     "name": "stdout",
     "output_type": "stream",
     "text": [
      "Testing R2 score is:  tensor(0.7798)\n"
     ]
    }
   ],
   "source": [
    "acc_test = test(X_esol[split:1128,:], X_pad[split:1128,:,:], A[split:1128], y_esol[split:1128])\n",
    "print('Testing R2 score is: ', acc_test)"
   ]
  },
  {
   "cell_type": "code",
   "execution_count": 62,
   "metadata": {},
   "outputs": [
    {
     "name": "stdout",
     "output_type": "stream",
     "text": [
      "Training R2 score is: tensor(0.9683)\n"
     ]
    }
   ],
   "source": [
    "acc_train = test(X_esol[:split,:], X_pad[:split,:,:], A[:split], y_esol[:split])\n",
    "print('Training R2 score is:', acc_train)"
   ]
  },
  {
   "cell_type": "code",
   "execution_count": null,
   "metadata": {},
   "outputs": [],
   "source": []
  },
  {
   "cell_type": "code",
   "execution_count": null,
   "metadata": {},
   "outputs": [],
   "source": []
  }
 ],
 "metadata": {
  "accelerator": "GPU",
  "colab": {
   "collapsed_sections": [],
   "name": "Fingerprint_X.ipynb",
   "provenance": []
  },
  "kernelspec": {
   "display_name": "Python 3",
   "language": "python",
   "name": "python3"
  },
  "language_info": {
   "codemirror_mode": {
    "name": "ipython",
    "version": 3
   },
   "file_extension": ".py",
   "mimetype": "text/x-python",
   "name": "python",
   "nbconvert_exporter": "python",
   "pygments_lexer": "ipython3",
   "version": "3.7.4"
  }
 },
 "nbformat": 4,
 "nbformat_minor": 1
}
