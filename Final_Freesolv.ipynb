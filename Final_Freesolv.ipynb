{
 "cells": [
  {
   "cell_type": "code",
   "execution_count": 1,
   "metadata": {
    "colab": {
     "base_uri": "https://localhost:8080/",
     "height": 1000
    },
    "colab_type": "code",
    "id": "v-5sMjEFUMmd",
    "outputId": "003d5b34-fbb9-416d-ac30-8248e539b826"
   },
   "outputs": [
    {
     "name": "stderr",
     "output_type": "stream",
     "text": [
      "/Users/abhigyaurja/opt/anaconda3/lib/python3.7/site-packages/sklearn/externals/joblib/__init__.py:15: DeprecationWarning: sklearn.externals.joblib is deprecated in 0.21 and will be removed in 0.23. Please import this functionality directly from joblib, which can be installed with: pip install joblib. If this warning is raised when loading pickled models, you may need to re-serialize those models with scikit-learn 0.21+.\n",
      "  warnings.warn(msg, category=DeprecationWarning)\n",
      "/Users/abhigyaurja/opt/anaconda3/lib/python3.7/site-packages/tensorflow/python/framework/dtypes.py:516: FutureWarning: Passing (type, 1) or '1type' as a synonym of type is deprecated; in a future version of numpy, it will be understood as (type, (1,)) / '(1,)type'.\n",
      "  _np_qint8 = np.dtype([(\"qint8\", np.int8, 1)])\n",
      "/Users/abhigyaurja/opt/anaconda3/lib/python3.7/site-packages/tensorflow/python/framework/dtypes.py:517: FutureWarning: Passing (type, 1) or '1type' as a synonym of type is deprecated; in a future version of numpy, it will be understood as (type, (1,)) / '(1,)type'.\n",
      "  _np_quint8 = np.dtype([(\"quint8\", np.uint8, 1)])\n",
      "/Users/abhigyaurja/opt/anaconda3/lib/python3.7/site-packages/tensorflow/python/framework/dtypes.py:518: FutureWarning: Passing (type, 1) or '1type' as a synonym of type is deprecated; in a future version of numpy, it will be understood as (type, (1,)) / '(1,)type'.\n",
      "  _np_qint16 = np.dtype([(\"qint16\", np.int16, 1)])\n",
      "/Users/abhigyaurja/opt/anaconda3/lib/python3.7/site-packages/tensorflow/python/framework/dtypes.py:519: FutureWarning: Passing (type, 1) or '1type' as a synonym of type is deprecated; in a future version of numpy, it will be understood as (type, (1,)) / '(1,)type'.\n",
      "  _np_quint16 = np.dtype([(\"quint16\", np.uint16, 1)])\n",
      "/Users/abhigyaurja/opt/anaconda3/lib/python3.7/site-packages/tensorflow/python/framework/dtypes.py:520: FutureWarning: Passing (type, 1) or '1type' as a synonym of type is deprecated; in a future version of numpy, it will be understood as (type, (1,)) / '(1,)type'.\n",
      "  _np_qint32 = np.dtype([(\"qint32\", np.int32, 1)])\n",
      "/Users/abhigyaurja/opt/anaconda3/lib/python3.7/site-packages/tensorflow/python/framework/dtypes.py:525: FutureWarning: Passing (type, 1) or '1type' as a synonym of type is deprecated; in a future version of numpy, it will be understood as (type, (1,)) / '(1,)type'.\n",
      "  np_resource = np.dtype([(\"resource\", np.ubyte, 1)])\n",
      "/Users/abhigyaurja/opt/anaconda3/lib/python3.7/site-packages/tensorboard/compat/tensorflow_stub/dtypes.py:541: FutureWarning: Passing (type, 1) or '1type' as a synonym of type is deprecated; in a future version of numpy, it will be understood as (type, (1,)) / '(1,)type'.\n",
      "  _np_qint8 = np.dtype([(\"qint8\", np.int8, 1)])\n",
      "/Users/abhigyaurja/opt/anaconda3/lib/python3.7/site-packages/tensorboard/compat/tensorflow_stub/dtypes.py:542: FutureWarning: Passing (type, 1) or '1type' as a synonym of type is deprecated; in a future version of numpy, it will be understood as (type, (1,)) / '(1,)type'.\n",
      "  _np_quint8 = np.dtype([(\"quint8\", np.uint8, 1)])\n",
      "/Users/abhigyaurja/opt/anaconda3/lib/python3.7/site-packages/tensorboard/compat/tensorflow_stub/dtypes.py:543: FutureWarning: Passing (type, 1) or '1type' as a synonym of type is deprecated; in a future version of numpy, it will be understood as (type, (1,)) / '(1,)type'.\n",
      "  _np_qint16 = np.dtype([(\"qint16\", np.int16, 1)])\n",
      "/Users/abhigyaurja/opt/anaconda3/lib/python3.7/site-packages/tensorboard/compat/tensorflow_stub/dtypes.py:544: FutureWarning: Passing (type, 1) or '1type' as a synonym of type is deprecated; in a future version of numpy, it will be understood as (type, (1,)) / '(1,)type'.\n",
      "  _np_quint16 = np.dtype([(\"quint16\", np.uint16, 1)])\n",
      "/Users/abhigyaurja/opt/anaconda3/lib/python3.7/site-packages/tensorboard/compat/tensorflow_stub/dtypes.py:545: FutureWarning: Passing (type, 1) or '1type' as a synonym of type is deprecated; in a future version of numpy, it will be understood as (type, (1,)) / '(1,)type'.\n",
      "  _np_qint32 = np.dtype([(\"qint32\", np.int32, 1)])\n",
      "/Users/abhigyaurja/opt/anaconda3/lib/python3.7/site-packages/tensorboard/compat/tensorflow_stub/dtypes.py:550: FutureWarning: Passing (type, 1) or '1type' as a synonym of type is deprecated; in a future version of numpy, it will be understood as (type, (1,)) / '(1,)type'.\n",
      "  np_resource = np.dtype([(\"resource\", np.ubyte, 1)])\n"
     ]
    }
   ],
   "source": [
    "import deepchem as dc\n",
    "import pandas as pd \n",
    "import networkx as nx\n",
    "import numpy as np\n",
    "import matplotlib.pyplot as plt\n",
    "from rdkit import Chem\n",
    "from tqdm import tqdm\n",
    "\n",
    "from deepchem.feat.mol_graphs import ConvMol"
   ]
  },
  {
   "cell_type": "code",
   "execution_count": 2,
   "metadata": {
    "colab": {},
    "colab_type": "code",
    "id": "da6UMy1NSs-6"
   },
   "outputs": [],
   "source": [
    "import torch\n",
    "import torch.nn.functional as F\n",
    "import torch.nn as nn\n",
    "from torch.autograd import Variable"
   ]
  },
  {
   "cell_type": "code",
   "execution_count": 3,
   "metadata": {
    "colab": {},
    "colab_type": "code",
    "id": "Nnv4KpkZPKun"
   },
   "outputs": [],
   "source": [
    "freesolv = pd.read_csv('FreeSolv/SAMPL.csv')"
   ]
  },
  {
   "cell_type": "code",
   "execution_count": 4,
   "metadata": {
    "colab": {},
    "colab_type": "code",
    "id": "CdICQWRpPKur"
   },
   "outputs": [],
   "source": [
    "def get_fingerprint(data, name):\n",
    "    smiles = data[name]\n",
    "    molecules = [Chem.MolFromSmiles(smile) for smile in smiles]\n",
    "    feat = dc.feat.CircularFingerprint(size=100)\n",
    "    arr = feat.featurize(mols = molecules)\n",
    "    return arr"
   ]
  },
  {
   "cell_type": "code",
   "execution_count": 5,
   "metadata": {
    "colab": {},
    "colab_type": "code",
    "id": "T9Vhz5KKPKuu"
   },
   "outputs": [],
   "source": [
    "X_freesolv = get_fingerprint(freesolv, 'smiles')"
   ]
  },
  {
   "cell_type": "code",
   "execution_count": 6,
   "metadata": {
    "colab": {},
    "colab_type": "code",
    "id": "Q1F76CuHPKu0"
   },
   "outputs": [],
   "source": [
    "def conv(data, name):\n",
    "    smiles = data[name]\n",
    "    mols = [Chem.MolFromSmiles(s) for s in smiles]\n",
    "    featurizer = dc.feat.ConvMolFeaturizer()\n",
    "    x = featurizer.featurize(mols)\n",
    "    return x"
   ]
  },
  {
   "cell_type": "code",
   "execution_count": 7,
   "metadata": {
    "colab": {},
    "colab_type": "code",
    "id": "NwTiAZR0PKu2"
   },
   "outputs": [],
   "source": [
    "c_freesolv = conv(freesolv, 'smiles')"
   ]
  },
  {
   "cell_type": "code",
   "execution_count": 8,
   "metadata": {
    "colab": {},
    "colab_type": "code",
    "id": "sOS_tc5gPKvM"
   },
   "outputs": [],
   "source": [
    "X_pad = []\n",
    "for i in range(c_freesolv.shape[0]):\n",
    "    c = c_freesolv[i].get_atom_features()\n",
    "    pad = 24 - c.shape[0]\n",
    "    c = np.pad(c,((0,pad),(0,0)), 'constant')    \n",
    "    X_pad.append(c)\n",
    "    \n",
    "A = []\n",
    "for i in range(c_freesolv.shape[0]):\n",
    "    A.append(c_freesolv[i].get_adjacency_list())\n",
    "X_pad = np.asarray(X_pad)"
   ]
  },
  {
   "cell_type": "code",
   "execution_count": 9,
   "metadata": {
    "colab": {},
    "colab_type": "code",
    "id": "5YAy4rLRPKvO"
   },
   "outputs": [],
   "source": [
    "y_freesolv = freesolv['expt']\n",
    "X_freesolv = Variable(torch.from_numpy(X_freesolv))\n",
    "X_pad = Variable(torch.from_numpy(X_pad))\n",
    "y_freesolv = torch.FloatTensor(y_freesolv)"
   ]
  },
  {
   "cell_type": "code",
   "execution_count": 10,
   "metadata": {
    "colab": {},
    "colab_type": "code",
    "id": "OUKTKvS78nCf"
   },
   "outputs": [],
   "source": [
    "def Getting_Spatial(X_f, A):\n",
    "    X_s = np.zeros([X_f.shape[0], X_f.shape[0], X_f.shape[1]])\n",
    "    n = len(A)\n",
    "    for i in range(n):\n",
    "        for j in range(n):\n",
    "            if j in A[i]:\n",
    "                for k in range(X_f.shape[1]):\n",
    "                    X_s[i][j][k] = X_f[j][k]\n",
    "    X_s = Variable(torch.from_numpy(X_s))\n",
    "    \n",
    "    return X_s"
   ]
  },
  {
   "cell_type": "code",
   "execution_count": 11,
   "metadata": {
    "colab": {},
    "colab_type": "code",
    "id": "QPmn6SSgW3kq"
   },
   "outputs": [],
   "source": [
    "class GModel(nn.Module):\n",
    "    def __init__(self):\n",
    "        super(GModel, self).__init__()\n",
    "        self.X_f = nn.Linear(75, 40) #Dimensionality reduction\n",
    "        self.conv = nn.Conv1d(in_channels = 24, out_channels = 19, kernel_size = 19, stride = 1, padding = 9)\n",
    "        self.conv1 = nn.Conv1d(in_channels = 20, out_channels = 5 , kernel_size = 11)\n",
    "        self.conv2 = nn.Conv1d(in_channels = 5, out_channels = 2, kernel_size = 7)\n",
    "        self.conv3 = nn.Conv1d(in_channels = 2, out_channels = 1, kernel_size = 5)\n",
    "        self.opt = nn.Linear(100, 40)\n",
    "        self.relu = nn.ReLU()\n",
    "        self.pred = nn.Linear(100, 1)\n",
    "        \n",
    "    #Forward Pass    \n",
    "    def forward(self, x_pad, A, x2):\n",
    "        x_pad = x_pad.float()\n",
    "        x2 = x2.float()\n",
    "        \n",
    "        x_f = self.X_f(x_pad)\n",
    "        S = Getting_Spatial(x_f, A)\n",
    "\n",
    "        graph = torch.zeros(60)\n",
    "        \n",
    "        for i in range(x_pad.shape[0]):\n",
    "            s = S[i]\n",
    "            s = s.unsqueeze(dim = 0)\n",
    "            s = s.float()\n",
    "            \n",
    "            x_k = self.conv(s)\n",
    "            x_k = x_k.view(19, 40)\n",
    "        \n",
    "            f = x_f[i].unsqueeze(dim = 0)\n",
    "            \n",
    "            out1 = torch.cat([f, x_k], dim = 0)\n",
    "            \n",
    "            out1 = out1.unsqueeze(dim = 0)\n",
    "            \n",
    "            out2 = self.conv1(out1)\n",
    "            out2 = self.conv2(out2)\n",
    "            out2 = self.conv3(out2)\n",
    "        \n",
    "            out2 = out2.view(20)\n",
    "\n",
    "            out3 = torch.cat([x_f[i], out2], dim = -1)\n",
    "        \n",
    "            for j in range(60):\n",
    "                graph[j] = graph[j] + out3[j]\n",
    "\n",
    "        opti = self.opt(x2)\n",
    "        opti = self.relu(opti)\n",
    "        mol = torch.cat([graph, opti], dim = -1)\n",
    "        pred = self.pred(mol)\n",
    "        return pred"
   ]
  },
  {
   "cell_type": "code",
   "execution_count": 12,
   "metadata": {
    "colab": {},
    "colab_type": "code",
    "id": "y0shSyY6PKvQ"
   },
   "outputs": [],
   "source": [
    "def train(X_freesolv, X_pad, A, y_freesolv, opt, cost):\n",
    "    #Going into training mode for model\n",
    "    net.train()\n",
    "    loss_list = []\n",
    "    g = 0\n",
    "    y = 0\n",
    "    m = torch.mean(y_freesolv)\n",
    "    \n",
    "    s = np.arange(0,X_freesolv.shape[0],1)\n",
    "    np.random.shuffle(s)\n",
    "    \n",
    "    for i in range(X_freesolv.shape[0]):\n",
    "        j = s[i]\n",
    "        \n",
    "        pred = net(X_pad[j], A[j], X_freesolv[j])\n",
    "        labels = y_freesolv[j]\n",
    "        labels = labels.view(1)\n",
    "        loss = cost(pred, labels)\n",
    "    \n",
    "        loss_list.append(loss.item())\n",
    "        g = g + torch.sum((labels - pred) **2)\n",
    "        y = y + torch.sum(((labels - m) ** 2))\n",
    "        #Backpropogation and optimization\n",
    "        opt.zero_grad()\n",
    "        loss.backward()\n",
    "        opt.step()\n",
    "    \n",
    "    r_score = 1 - (g/y)\n",
    "    epoch_loss = np.sum(np.asarray(loss_list))\n",
    "    print(\"Loss is \", epoch_loss/X_freesolv.shape[0], ' r2_score is: ', r_score)   "
   ]
  },
  {
   "cell_type": "code",
   "execution_count": 18,
   "metadata": {},
   "outputs": [],
   "source": [
    "def test(X_freesolv, X_pad, A, y_freesolv):\n",
    "    #Going into network evaluation mode\n",
    "    net.eval()\n",
    "    \n",
    "    g = 0\n",
    "    y = 0\n",
    "    m = torch.mean(y_freesolv)\n",
    "\n",
    "    s = np.arange(0,X_freesolv.shape[0],1)\n",
    "    np.random.shuffle(s)\n",
    "    \n",
    "    #No gradients will be calculated for testing mode\n",
    "    with torch.no_grad():\n",
    "        for i in range(X_freesolv.shape[0]):\n",
    "            j = s[i]\n",
    "            pred = net(X_pad[j], A[j], X_freesolv[j])\n",
    "            labels = y_freesolv[j]\n",
    "            labels = labels.view(1)\n",
    "            g = g + torch.sum((labels - pred) **2)\n",
    "            y = y + torch.sum(((labels - m) ** 2))\n",
    "    \n",
    "    r_score = 1 - (g/y)\n",
    "    \n",
    "    return r_score    "
   ]
  },
  {
   "cell_type": "code",
   "execution_count": 14,
   "metadata": {
    "colab": {},
    "colab_type": "code",
    "id": "_zTI-zCxPKvR"
   },
   "outputs": [],
   "source": [
    "net = GModel()\n",
    "#Optimizer\n",
    "opt = torch.optim.Adam(net.parameters(), lr= 0.002)\n",
    "#Cost\n",
    "cost = nn.MSELoss() "
   ]
  },
  {
   "cell_type": "code",
   "execution_count": 15,
   "metadata": {},
   "outputs": [],
   "source": [
    "split = 514"
   ]
  },
  {
   "cell_type": "code",
   "execution_count": 16,
   "metadata": {
    "colab": {
     "base_uri": "https://localhost:8080/",
     "height": 51
    },
    "colab_type": "code",
    "id": "PdzzT5g9FlKm",
    "outputId": "7bd8ec2c-de9e-4069-9b4b-7e9e5d3c0919"
   },
   "outputs": [
    {
     "name": "stderr",
     "output_type": "stream",
     "text": [
      "\r",
      "  0%|          | 0/15 [00:00<?, ?it/s]"
     ]
    },
    {
     "name": "stdout",
     "output_type": "stream",
     "text": [
      "Loss is  10.400918436086581  r2_score is:  tensor(0.3144, grad_fn=<RsubBackward1>)\n"
     ]
    },
    {
     "name": "stderr",
     "output_type": "stream",
     "text": [
      "\r",
      "  7%|▋         | 1/15 [01:00<14:08, 60.58s/it]"
     ]
    },
    {
     "name": "stdout",
     "output_type": "stream",
     "text": [
      "Loss is  4.741228618281154  r2_score is:  tensor(0.6875, grad_fn=<RsubBackward1>)\n"
     ]
    },
    {
     "name": "stderr",
     "output_type": "stream",
     "text": [
      "\r",
      " 13%|█▎        | 2/15 [02:00<13:04, 60.36s/it]"
     ]
    },
    {
     "name": "stdout",
     "output_type": "stream",
     "text": [
      "Loss is  2.870852623657418  r2_score is:  tensor(0.8108, grad_fn=<RsubBackward1>)\n"
     ]
    },
    {
     "name": "stderr",
     "output_type": "stream",
     "text": [
      "\r",
      " 20%|██        | 3/15 [03:01<12:06, 60.54s/it]"
     ]
    },
    {
     "name": "stdout",
     "output_type": "stream",
     "text": [
      "Loss is  2.1067237599174673  r2_score is:  tensor(0.8611, grad_fn=<RsubBackward1>)\n"
     ]
    },
    {
     "name": "stderr",
     "output_type": "stream",
     "text": [
      "\r",
      " 27%|██▋       | 4/15 [04:01<11:05, 60.54s/it]"
     ]
    },
    {
     "name": "stdout",
     "output_type": "stream",
     "text": [
      "Loss is  1.3596352140054269  r2_score is:  tensor(0.9104, grad_fn=<RsubBackward1>)\n"
     ]
    },
    {
     "name": "stderr",
     "output_type": "stream",
     "text": [
      "\r",
      " 33%|███▎      | 5/15 [05:02<10:04, 60.40s/it]"
     ]
    },
    {
     "name": "stdout",
     "output_type": "stream",
     "text": [
      "Loss is  1.267210279695701  r2_score is:  tensor(0.9165, grad_fn=<RsubBackward1>)\n"
     ]
    },
    {
     "name": "stderr",
     "output_type": "stream",
     "text": [
      "\r",
      " 40%|████      | 6/15 [06:02<09:03, 60.42s/it]"
     ]
    },
    {
     "name": "stdout",
     "output_type": "stream",
     "text": [
      "Loss is  1.0439360883210134  r2_score is:  tensor(0.9312, grad_fn=<RsubBackward1>)\n"
     ]
    },
    {
     "name": "stderr",
     "output_type": "stream",
     "text": [
      " 53%|█████▎    | 8/15 [08:03<07:03, 60.51s/it]"
     ]
    },
    {
     "name": "stdout",
     "output_type": "stream",
     "text": [
      "Loss is  0.7964512960426965  r2_score is:  tensor(0.9475, grad_fn=<RsubBackward1>)\n",
      "Loss is  0.8452831629232807  r2_score is:  tensor(0.9443, grad_fn=<RsubBackward1>)\n"
     ]
    },
    {
     "name": "stderr",
     "output_type": "stream",
     "text": [
      " 67%|██████▋   | 10/15 [10:05<05:03, 60.74s/it]"
     ]
    },
    {
     "name": "stdout",
     "output_type": "stream",
     "text": [
      "Loss is  0.5153619251564839  r2_score is:  tensor(0.9660, grad_fn=<RsubBackward1>)\n",
      "Loss is  0.5419892334760689  r2_score is:  tensor(0.9643, grad_fn=<RsubBackward1>)\n"
     ]
    },
    {
     "name": "stderr",
     "output_type": "stream",
     "text": [
      "\r",
      " 73%|███████▎  | 11/15 [11:09<04:07, 61.83s/it]"
     ]
    },
    {
     "name": "stdout",
     "output_type": "stream",
     "text": [
      "Loss is  0.5470444984867163  r2_score is:  tensor(0.9639, grad_fn=<RsubBackward1>)\n"
     ]
    },
    {
     "name": "stderr",
     "output_type": "stream",
     "text": [
      "\r",
      " 80%|████████  | 12/15 [12:15<03:08, 62.99s/it]"
     ]
    },
    {
     "name": "stdout",
     "output_type": "stream",
     "text": [
      "Loss is  0.7298324422726242  r2_score is:  tensor(0.9519, grad_fn=<RsubBackward1>)\n"
     ]
    },
    {
     "name": "stderr",
     "output_type": "stream",
     "text": [
      "\r",
      " 87%|████████▋ | 13/15 [13:20<02:07, 63.57s/it]"
     ]
    },
    {
     "name": "stdout",
     "output_type": "stream",
     "text": [
      "Loss is  0.536532605934442  r2_score is:  tensor(0.9646, grad_fn=<RsubBackward1>)\n"
     ]
    },
    {
     "name": "stderr",
     "output_type": "stream",
     "text": [
      "\r",
      " 93%|█████████▎| 14/15 [14:24<01:03, 63.67s/it]"
     ]
    },
    {
     "name": "stdout",
     "output_type": "stream",
     "text": [
      "Loss is  0.3353616065792417  r2_score is:  tensor(0.9779, grad_fn=<RsubBackward1>)\n"
     ]
    },
    {
     "name": "stderr",
     "output_type": "stream",
     "text": [
      "100%|██████████| 15/15 [15:29<00:00, 61.97s/it]\n"
     ]
    }
   ],
   "source": [
    "for i in tqdm(range(15)):\n",
    "    train(X_freesolv[:split,:], X_pad[:split,:,:], A[:split], y_freesolv[:split], opt, cost)"
   ]
  },
  {
   "cell_type": "code",
   "execution_count": 19,
   "metadata": {},
   "outputs": [
    {
     "name": "stdout",
     "output_type": "stream",
     "text": [
      "Testing R2 score is:  tensor(0.8326)\n"
     ]
    }
   ],
   "source": [
    "acc_test = test(X_freesolv[split:642,:], X_pad[split:642,:,:], A[split:642], y_freesolv[split:642])\n",
    "print(\"Testing R2 score is: \", acc_test)"
   ]
  },
  {
   "cell_type": "code",
   "execution_count": 20,
   "metadata": {},
   "outputs": [
    {
     "name": "stdout",
     "output_type": "stream",
     "text": [
      "Training R2 score is:  tensor(0.9830)\n"
     ]
    }
   ],
   "source": [
    "acc_train = test(X_freesolv[:split,:], X_pad[:split,:,:], A[:split], y_freesolv[:split])\n",
    "print(\"Training R2 score is: \", acc_train)"
   ]
  },
  {
   "cell_type": "code",
   "execution_count": null,
   "metadata": {},
   "outputs": [],
   "source": []
  }
 ],
 "metadata": {
  "accelerator": "GPU",
  "colab": {
   "collapsed_sections": [],
   "name": "Fingerprint_X.ipynb",
   "provenance": []
  },
  "kernelspec": {
   "display_name": "Python 3",
   "language": "python",
   "name": "python3"
  },
  "language_info": {
   "codemirror_mode": {
    "name": "ipython",
    "version": 3
   },
   "file_extension": ".py",
   "mimetype": "text/x-python",
   "name": "python",
   "nbconvert_exporter": "python",
   "pygments_lexer": "ipython3",
   "version": "3.7.4"
  }
 },
 "nbformat": 4,
 "nbformat_minor": 1
}
