{
 "cells": [
  {
   "cell_type": "code",
   "execution_count": 1,
   "metadata": {
    "colab": {
     "base_uri": "https://localhost:8080/",
     "height": 1000
    },
    "colab_type": "code",
    "id": "v-5sMjEFUMmd",
    "outputId": "003d5b34-fbb9-416d-ac30-8248e539b826"
   },
   "outputs": [
    {
     "name": "stderr",
     "output_type": "stream",
     "text": [
      "/Users/abhigyaurja/opt/anaconda3/lib/python3.7/site-packages/sklearn/externals/joblib/__init__.py:15: DeprecationWarning: sklearn.externals.joblib is deprecated in 0.21 and will be removed in 0.23. Please import this functionality directly from joblib, which can be installed with: pip install joblib. If this warning is raised when loading pickled models, you may need to re-serialize those models with scikit-learn 0.21+.\n",
      "  warnings.warn(msg, category=DeprecationWarning)\n",
      "/Users/abhigyaurja/opt/anaconda3/lib/python3.7/site-packages/tensorflow/python/framework/dtypes.py:516: FutureWarning: Passing (type, 1) or '1type' as a synonym of type is deprecated; in a future version of numpy, it will be understood as (type, (1,)) / '(1,)type'.\n",
      "  _np_qint8 = np.dtype([(\"qint8\", np.int8, 1)])\n",
      "/Users/abhigyaurja/opt/anaconda3/lib/python3.7/site-packages/tensorflow/python/framework/dtypes.py:517: FutureWarning: Passing (type, 1) or '1type' as a synonym of type is deprecated; in a future version of numpy, it will be understood as (type, (1,)) / '(1,)type'.\n",
      "  _np_quint8 = np.dtype([(\"quint8\", np.uint8, 1)])\n",
      "/Users/abhigyaurja/opt/anaconda3/lib/python3.7/site-packages/tensorflow/python/framework/dtypes.py:518: FutureWarning: Passing (type, 1) or '1type' as a synonym of type is deprecated; in a future version of numpy, it will be understood as (type, (1,)) / '(1,)type'.\n",
      "  _np_qint16 = np.dtype([(\"qint16\", np.int16, 1)])\n",
      "/Users/abhigyaurja/opt/anaconda3/lib/python3.7/site-packages/tensorflow/python/framework/dtypes.py:519: FutureWarning: Passing (type, 1) or '1type' as a synonym of type is deprecated; in a future version of numpy, it will be understood as (type, (1,)) / '(1,)type'.\n",
      "  _np_quint16 = np.dtype([(\"quint16\", np.uint16, 1)])\n",
      "/Users/abhigyaurja/opt/anaconda3/lib/python3.7/site-packages/tensorflow/python/framework/dtypes.py:520: FutureWarning: Passing (type, 1) or '1type' as a synonym of type is deprecated; in a future version of numpy, it will be understood as (type, (1,)) / '(1,)type'.\n",
      "  _np_qint32 = np.dtype([(\"qint32\", np.int32, 1)])\n",
      "/Users/abhigyaurja/opt/anaconda3/lib/python3.7/site-packages/tensorflow/python/framework/dtypes.py:525: FutureWarning: Passing (type, 1) or '1type' as a synonym of type is deprecated; in a future version of numpy, it will be understood as (type, (1,)) / '(1,)type'.\n",
      "  np_resource = np.dtype([(\"resource\", np.ubyte, 1)])\n",
      "/Users/abhigyaurja/opt/anaconda3/lib/python3.7/site-packages/tensorboard/compat/tensorflow_stub/dtypes.py:541: FutureWarning: Passing (type, 1) or '1type' as a synonym of type is deprecated; in a future version of numpy, it will be understood as (type, (1,)) / '(1,)type'.\n",
      "  _np_qint8 = np.dtype([(\"qint8\", np.int8, 1)])\n",
      "/Users/abhigyaurja/opt/anaconda3/lib/python3.7/site-packages/tensorboard/compat/tensorflow_stub/dtypes.py:542: FutureWarning: Passing (type, 1) or '1type' as a synonym of type is deprecated; in a future version of numpy, it will be understood as (type, (1,)) / '(1,)type'.\n",
      "  _np_quint8 = np.dtype([(\"quint8\", np.uint8, 1)])\n",
      "/Users/abhigyaurja/opt/anaconda3/lib/python3.7/site-packages/tensorboard/compat/tensorflow_stub/dtypes.py:543: FutureWarning: Passing (type, 1) or '1type' as a synonym of type is deprecated; in a future version of numpy, it will be understood as (type, (1,)) / '(1,)type'.\n",
      "  _np_qint16 = np.dtype([(\"qint16\", np.int16, 1)])\n",
      "/Users/abhigyaurja/opt/anaconda3/lib/python3.7/site-packages/tensorboard/compat/tensorflow_stub/dtypes.py:544: FutureWarning: Passing (type, 1) or '1type' as a synonym of type is deprecated; in a future version of numpy, it will be understood as (type, (1,)) / '(1,)type'.\n",
      "  _np_quint16 = np.dtype([(\"quint16\", np.uint16, 1)])\n",
      "/Users/abhigyaurja/opt/anaconda3/lib/python3.7/site-packages/tensorboard/compat/tensorflow_stub/dtypes.py:545: FutureWarning: Passing (type, 1) or '1type' as a synonym of type is deprecated; in a future version of numpy, it will be understood as (type, (1,)) / '(1,)type'.\n",
      "  _np_qint32 = np.dtype([(\"qint32\", np.int32, 1)])\n",
      "/Users/abhigyaurja/opt/anaconda3/lib/python3.7/site-packages/tensorboard/compat/tensorflow_stub/dtypes.py:550: FutureWarning: Passing (type, 1) or '1type' as a synonym of type is deprecated; in a future version of numpy, it will be understood as (type, (1,)) / '(1,)type'.\n",
      "  np_resource = np.dtype([(\"resource\", np.ubyte, 1)])\n"
     ]
    }
   ],
   "source": [
    "import deepchem as dc\n",
    "import pandas as pd \n",
    "import networkx as nx\n",
    "import numpy as np\n",
    "import matplotlib.pyplot as plt\n",
    "from rdkit import Chem\n",
    "from tqdm import tqdm\n",
    "\n",
    "from deepchem.feat.mol_graphs import ConvMol"
   ]
  },
  {
   "cell_type": "code",
   "execution_count": 2,
   "metadata": {
    "colab": {},
    "colab_type": "code",
    "id": "da6UMy1NSs-6"
   },
   "outputs": [],
   "source": [
    "import torch\n",
    "import torch.nn.functional as F\n",
    "import torch.nn as nn\n",
    "from torch.autograd import Variable"
   ]
  },
  {
   "cell_type": "code",
   "execution_count": 3,
   "metadata": {
    "colab": {},
    "colab_type": "code",
    "id": "Nnv4KpkZPKun"
   },
   "outputs": [],
   "source": [
    "lipo = pd.read_csv('lipophilicity/Lipophilicity.csv')"
   ]
  },
  {
   "cell_type": "code",
   "execution_count": 4,
   "metadata": {
    "colab": {},
    "colab_type": "code",
    "id": "CdICQWRpPKur"
   },
   "outputs": [],
   "source": [
    "def get_fingerprint(data, name):\n",
    "    smiles = data[name]\n",
    "    molecules = [Chem.MolFromSmiles(smile) for smile in smiles]\n",
    "    feat = dc.feat.CircularFingerprint(size=100)\n",
    "    arr = feat.featurize(mols = molecules)\n",
    "    return arr"
   ]
  },
  {
   "cell_type": "code",
   "execution_count": 5,
   "metadata": {
    "colab": {},
    "colab_type": "code",
    "id": "T9Vhz5KKPKuu"
   },
   "outputs": [],
   "source": [
    "X_lipo = get_fingerprint(lipo, 'smiles')"
   ]
  },
  {
   "cell_type": "code",
   "execution_count": 6,
   "metadata": {
    "colab": {},
    "colab_type": "code",
    "id": "Q1F76CuHPKu0"
   },
   "outputs": [],
   "source": [
    "def conv(data, name):\n",
    "    smiles = data[name]\n",
    "    mols = [Chem.MolFromSmiles(s) for s in smiles]\n",
    "    featurizer = dc.feat.ConvMolFeaturizer()\n",
    "    x = featurizer.featurize(mols)\n",
    "    return x"
   ]
  },
  {
   "cell_type": "code",
   "execution_count": 7,
   "metadata": {
    "colab": {},
    "colab_type": "code",
    "id": "NwTiAZR0PKu2"
   },
   "outputs": [],
   "source": [
    "c_lipo = conv(lipo, 'smiles')"
   ]
  },
  {
   "cell_type": "code",
   "execution_count": 8,
   "metadata": {
    "colab": {},
    "colab_type": "code",
    "id": "sOS_tc5gPKvM"
   },
   "outputs": [],
   "source": [
    "X = []\n",
    "X_pad = []\n",
    "for i in range(c_lipo.shape[0]):\n",
    "    c = c_lipo[i].get_atom_features()\n",
    "    X.append(c)\n",
    "    pad = 115 - c.shape[0]\n",
    "    c = np.pad(c,((0,pad),(0,0)), 'constant')    \n",
    "    X_pad.append(c)\n",
    "    \n",
    "A = []\n",
    "for i in range(c_lipo.shape[0]):\n",
    "    A.append(c_lipo[i].get_adjacency_list())\n",
    "X_pad = np.asarray(X_pad)"
   ]
  },
  {
   "cell_type": "code",
   "execution_count": 9,
   "metadata": {
    "colab": {},
    "colab_type": "code",
    "id": "5YAy4rLRPKvO"
   },
   "outputs": [],
   "source": [
    "y_lipo = lipo['exp']\n",
    "X_lipo = Variable(torch.from_numpy(X_lipo))\n",
    "X_pad = Variable(torch.from_numpy(X_pad))\n",
    "y_lipo = torch.FloatTensor(y_lipo)"
   ]
  },
  {
   "cell_type": "code",
   "execution_count": 10,
   "metadata": {
    "colab": {},
    "colab_type": "code",
    "id": "OUKTKvS78nCf"
   },
   "outputs": [],
   "source": [
    "def Getting_Spatial(X_f, A):\n",
    "    X_s = np.zeros([X_f.shape[0], X_f.shape[0], X_f.shape[1]])\n",
    "    n = len(A)\n",
    "    for i in range(n):\n",
    "        for j in range(n):\n",
    "            if j in A[i]:\n",
    "                for k in range(X_f.shape[1]):\n",
    "                    X_s[i][j][k] = X_f[j][k]\n",
    "    X_s = Variable(torch.from_numpy(X_s))\n",
    "    \n",
    "    return X_s"
   ]
  },
  {
   "cell_type": "code",
   "execution_count": 11,
   "metadata": {
    "colab": {},
    "colab_type": "code",
    "id": "QPmn6SSgW3kq"
   },
   "outputs": [],
   "source": [
    "class GModel(nn.Module):\n",
    "    def __init__(self):\n",
    "        super(GModel, self).__init__()\n",
    "        self.X_f = nn.Linear(75, 40) #Dimensionality reduction\n",
    "        self.conv = nn.Conv1d(in_channels = 115, out_channels = 19, kernel_size = 19, stride = 1, padding = 9)\n",
    "        self.conv1 = nn.Conv1d(in_channels = 20, out_channels = 5 , kernel_size = 11)\n",
    "        self.conv2 = nn.Conv1d(in_channels = 5, out_channels = 2, kernel_size = 7)\n",
    "        self.conv3 = nn.Conv1d(in_channels = 2, out_channels = 1, kernel_size = 5)\n",
    "        self.opt = nn.Linear(100, 40)\n",
    "        self.relu = nn.ReLU()\n",
    "        self.pred = nn.Linear(100, 1)\n",
    "        \n",
    "    #Forward Pass    \n",
    "    def forward(self, x_pad, A, x2):\n",
    "        x_pad = x_pad.float()\n",
    "        x2 = x2.float()\n",
    "        \n",
    "        x_f = self.X_f(x_pad)\n",
    "        S = Getting_Spatial(x_f, A)\n",
    "\n",
    "        graph = torch.zeros(60)\n",
    "        \n",
    "        for i in range(x_pad.shape[0]):\n",
    "            s = S[i]\n",
    "            s = s.unsqueeze(dim = 0)\n",
    "            s = s.float()\n",
    "            \n",
    "            x_k = self.conv(s)\n",
    "            x_k = x_k.view(19, 40)\n",
    "        \n",
    "            f = x_f[i].unsqueeze(dim = 0)\n",
    "            \n",
    "            out1 = torch.cat([f, x_k], dim = 0)\n",
    "            \n",
    "            out1 = out1.unsqueeze(dim = 0)\n",
    "            \n",
    "            out2 = self.conv1(out1)\n",
    "            out2 = self.conv2(out2)\n",
    "            out2 = self.conv3(out2)\n",
    "        \n",
    "            out2 = out2.view(20)\n",
    "\n",
    "            out3 = torch.cat([x_f[i], out2], dim = -1)\n",
    "        \n",
    "            for j in range(60):\n",
    "                graph[j] = graph[j] + out3[j]\n",
    "\n",
    "        opti = self.opt(x2)\n",
    "        opti = self.relu(opti)\n",
    "        mol = torch.cat([graph, opti], dim = -1)\n",
    "        pred = self.pred(mol)\n",
    "        return pred"
   ]
  },
  {
   "cell_type": "code",
   "execution_count": 12,
   "metadata": {
    "colab": {},
    "colab_type": "code",
    "id": "y0shSyY6PKvQ"
   },
   "outputs": [],
   "source": [
    "def train(X_lipo, X_pad, A, y_lipo, opt, cost):\n",
    "    #Going into training mode for model\n",
    "    net.train()\n",
    "    loss_list = []\n",
    "    g = 0\n",
    "    y = 0\n",
    "    m = torch.mean(y_lipo)\n",
    "    \n",
    "    s = np.arange(0,X_lipo.shape[0],1)\n",
    "    np.random.shuffle(s)\n",
    "    \n",
    "    for i in range(X_lipo.shape[0]):\n",
    "        j = s[i]\n",
    "        \n",
    "        pred = net(X_pad[j], A[j], X_lipo[j])\n",
    "        labels = y_lipo[j]\n",
    "        labels = labels.view(1)\n",
    "        loss = cost(pred, labels)\n",
    "    \n",
    "        loss_list.append(loss.item())\n",
    "        g = g + torch.sum((labels - pred) **2)\n",
    "        y = y + torch.sum(((labels - m) ** 2))\n",
    "        #Backpropogation and optimization\n",
    "        opt.zero_grad()\n",
    "        loss.backward()\n",
    "        opt.step()\n",
    "    \n",
    "    r_score = 1 - (g/y)\n",
    "    epoch_loss = np.sum(np.asarray(loss_list))\n",
    "    print(\"Loss is \", epoch_loss/X_lipo.shape[0], ' r2_score is: ', r_score)   "
   ]
  },
  {
   "cell_type": "code",
   "execution_count": 18,
   "metadata": {},
   "outputs": [],
   "source": [
    "def test(X_lipo, X_pad, A, y_lipo):\n",
    "    #Going into network evaluation mode\n",
    "    net.eval()\n",
    "    \n",
    "    g = 0\n",
    "    y = 0\n",
    "    m = torch.mean(y_lipo)\n",
    "\n",
    "    s = np.arange(0,X_lipo.shape[0],1)\n",
    "    np.random.shuffle(s)\n",
    "    \n",
    "    #No gradients will be calculated for testing mode\n",
    "    with torch.no_grad():\n",
    "        for i in range(X_lipo.shape[0]):\n",
    "            j = s[i]\n",
    "            pred = net(X_pad[j], A[j], X_lipo[j])\n",
    "            labels = y_lipo[j]\n",
    "            labels = labels.view(1)\n",
    "            g = g + torch.sum((labels - pred) **2)\n",
    "            y = y + torch.sum(((labels - m) ** 2))\n",
    "    \n",
    "    r_score = 1 - (g/y)\n",
    "    \n",
    "    return r_score    "
   ]
  },
  {
   "cell_type": "code",
   "execution_count": 14,
   "metadata": {
    "colab": {},
    "colab_type": "code",
    "id": "_zTI-zCxPKvR"
   },
   "outputs": [],
   "source": [
    "net = GModel()\n",
    "#Optimizer\n",
    "opt = torch.optim.Adam(net.parameters(), lr= 0.002)\n",
    "#Cost\n",
    "cost = nn.MSELoss() "
   ]
  },
  {
   "cell_type": "code",
   "execution_count": 15,
   "metadata": {},
   "outputs": [],
   "source": [
    "split = 3360"
   ]
  },
  {
   "cell_type": "code",
   "execution_count": 16,
   "metadata": {
    "colab": {
     "base_uri": "https://localhost:8080/",
     "height": 51
    },
    "colab_type": "code",
    "id": "PdzzT5g9FlKm",
    "outputId": "7bd8ec2c-de9e-4069-9b4b-7e9e5d3c0919"
   },
   "outputs": [
    {
     "name": "stderr",
     "output_type": "stream",
     "text": [
      "\r",
      "  0%|          | 0/10 [00:00<?, ?it/s]"
     ]
    },
    {
     "name": "stdout",
     "output_type": "stream",
     "text": [
      "Loss is  1.373202623032946  r2_score is:  tensor(0.0522, grad_fn=<RsubBackward1>)\n"
     ]
    },
    {
     "name": "stderr",
     "output_type": "stream",
     "text": [
      "\r",
      " 10%|█         | 1/10 [37:36<5:38:29, 2256.64s/it]"
     ]
    },
    {
     "name": "stdout",
     "output_type": "stream",
     "text": [
      "Loss is  1.076833652556037  r2_score is:  tensor(0.2568, grad_fn=<RsubBackward1>)\n"
     ]
    },
    {
     "name": "stderr",
     "output_type": "stream",
     "text": [
      "\r",
      " 20%|██        | 2/10 [1:18:51<5:09:37, 2322.14s/it]"
     ]
    },
    {
     "name": "stdout",
     "output_type": "stream",
     "text": [
      "Loss is  0.9598266937145994  r2_score is:  tensor(0.3375, grad_fn=<RsubBackward1>)\n"
     ]
    },
    {
     "name": "stderr",
     "output_type": "stream",
     "text": [
      "\r",
      " 30%|███       | 3/10 [1:59:15<4:34:28, 2352.69s/it]"
     ]
    },
    {
     "name": "stdout",
     "output_type": "stream",
     "text": [
      "Loss is  0.8356775903405125  r2_score is:  tensor(0.4232, grad_fn=<RsubBackward1>)\n"
     ]
    },
    {
     "name": "stderr",
     "output_type": "stream",
     "text": [
      "\r",
      " 40%|████      | 4/10 [2:42:15<4:02:05, 2420.95s/it]"
     ]
    },
    {
     "name": "stdout",
     "output_type": "stream",
     "text": [
      "Loss is  0.7572962342960703  r2_score is:  tensor(0.4773, grad_fn=<RsubBackward1>)\n"
     ]
    },
    {
     "name": "stderr",
     "output_type": "stream",
     "text": [
      "\r",
      " 50%|█████     | 5/10 [3:25:29<3:26:04, 2472.91s/it]"
     ]
    },
    {
     "name": "stdout",
     "output_type": "stream",
     "text": [
      "Loss is  0.6935727440479805  r2_score is:  tensor(0.5213, grad_fn=<RsubBackward1>)\n"
     ]
    },
    {
     "name": "stderr",
     "output_type": "stream",
     "text": [
      "\r",
      " 60%|██████    | 6/10 [4:11:27<2:50:32, 2558.22s/it]"
     ]
    },
    {
     "name": "stdout",
     "output_type": "stream",
     "text": [
      "Loss is  0.6370821292309897  r2_score is:  tensor(0.5603, grad_fn=<RsubBackward1>)\n"
     ]
    },
    {
     "name": "stderr",
     "output_type": "stream",
     "text": [
      "\r",
      " 70%|███████   | 7/10 [4:57:55<2:11:21, 2627.26s/it]"
     ]
    },
    {
     "name": "stdout",
     "output_type": "stream",
     "text": [
      "Loss is  0.6041415661320078  r2_score is:  tensor(0.5830, grad_fn=<RsubBackward1>)\n"
     ]
    },
    {
     "name": "stderr",
     "output_type": "stream",
     "text": [
      "\r",
      " 80%|████████  | 8/10 [5:44:13<1:29:05, 2672.51s/it]"
     ]
    },
    {
     "name": "stdout",
     "output_type": "stream",
     "text": [
      "Loss is  0.569227343123507  r2_score is:  tensor(0.6071, grad_fn=<RsubBackward1>)\n"
     ]
    },
    {
     "name": "stderr",
     "output_type": "stream",
     "text": [
      "\r",
      " 90%|█████████ | 9/10 [6:31:29<45:21, 2721.56s/it]  "
     ]
    },
    {
     "name": "stdout",
     "output_type": "stream",
     "text": [
      "Loss is  0.5513783152496008  r2_score is:  tensor(0.6194, grad_fn=<RsubBackward1>)\n"
     ]
    },
    {
     "name": "stderr",
     "output_type": "stream",
     "text": [
      "100%|██████████| 10/10 [7:19:31<00:00, 2637.14s/it]\n"
     ]
    }
   ],
   "source": [
    "for i in tqdm(range(15)):\n",
    "    train(X_lipo[:split,:], X_pad[:split,:,:], A[:split], y_lipo[:split], opt, cost)"
   ]
  },
  {
   "cell_type": "code",
   "execution_count": 19,
   "metadata": {},
   "outputs": [
    {
     "name": "stdout",
     "output_type": "stream",
     "text": [
      "Testing R2 score is:  tensor(0.4415)\n"
     ]
    }
   ],
   "source": [
    "acc_test = test(X_lipo[split:4200,:], X_pad[split:4200,:,:], A[split:4200], y_lipo[split:4200])\n",
    "print(\"Testing R2 score is: \", acc_test)"
   ]
  },
  {
   "cell_type": "code",
   "execution_count": 20,
   "metadata": {},
   "outputs": [
    {
     "name": "stdout",
     "output_type": "stream",
     "text": [
      "Training R2 score is:  tensor(0.6881)\n"
     ]
    }
   ],
   "source": [
    "acc_train = test(X_lipo[:split,:], X_pad[:split,:,:], A[:split], y_lipo[:split])\n",
    "print(\"Training R2 score is: \", acc_train)"
   ]
  },
  {
   "cell_type": "code",
   "execution_count": null,
   "metadata": {},
   "outputs": [],
   "source": []
  }
 ],
 "metadata": {
  "accelerator": "GPU",
  "colab": {
   "collapsed_sections": [],
   "name": "Fingerprint_X.ipynb",
   "provenance": []
  },
  "kernelspec": {
   "display_name": "Python 3",
   "language": "python",
   "name": "python3"
  },
  "language_info": {
   "codemirror_mode": {
    "name": "ipython",
    "version": 3
   },
   "file_extension": ".py",
   "mimetype": "text/x-python",
   "name": "python",
   "nbconvert_exporter": "python",
   "pygments_lexer": "ipython3",
   "version": "3.7.4"
  }
 },
 "nbformat": 4,
 "nbformat_minor": 1
}
